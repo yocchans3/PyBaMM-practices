{
 "cells": [
  {
   "cell_type": "code",
   "execution_count": 2,
   "metadata": {},
   "outputs": [],
   "source": [
    "import numpy as np\n",
    "#import pandas as pd\n",
    "import pybamm\n",
    "#import matplotlib.pyplot as plt"
   ]
  },
  {
   "cell_type": "code",
   "execution_count": 3,
   "metadata": {},
   "outputs": [
    {
     "data": {
      "application/vnd.jupyter.widget-view+json": {
       "model_id": "34b2cea3737944c395ce10e04235c2e0",
       "version_major": 2,
       "version_minor": 0
      },
      "text/plain": [
       "interactive(children=(FloatSlider(value=0.0, description='t', max=1.0, step=0.01), Output()), _dom_classes=('w…"
      ]
     },
     "metadata": {},
     "output_type": "display_data"
    },
    {
     "data": {
      "text/plain": [
       "<pybamm.plotting.quick_plot.QuickPlot at 0x12a7a05b0>"
      ]
     },
     "execution_count": 3,
     "metadata": {},
     "output_type": "execute_result"
    }
   ],
   "source": [
    "model = pybamm.lithium_ion.DFN()\n",
    "sim = pybamm.Simulation(model)\n",
    "sim.solve([0, 3600])\n",
    "sim.plot()"
   ]
  },
  {
   "cell_type": "code",
   "execution_count": 10,
   "metadata": {
    "collapsed": true,
    "jupyter": {
     "outputs_hidden": true
    }
   },
   "outputs": [
    {
     "name": "stdout",
     "output_type": "stream",
     "text": [
      "******************************\n",
      "Applied Current -0.15830721003134796 A Time 0.513 hrs Capacity 81.2115987460815 mAh\n",
      "Applied Current 0.15830721003134796 A Time 0.506 hrs Capacity 80.10344827586206 mAh\n",
      "Negative : Positive electrode thickness 1.0\n",
      "Total Charge/Discharge Time 1.0190000000000001 hrs\n",
      "Total Capacity 161.315 mAh\n",
      "Total Capacity 161.2954069059009 mAh.cm-3\n",
      "******************************\n",
      "Applied Current -0.15830721003134796 A Time 0.585 hrs Capacity 92.60971786833855 mAh\n",
      "Applied Current 0.15830721003134796 A Time 0.589 hrs Capacity 93.24294670846393 mAh\n",
      "Negative : Positive electrode thickness 1.15\n",
      "Total Charge/Discharge Time 1.174 hrs\n",
      "Total Capacity 185.853 mAh\n",
      "Total Capacity 174.21602489509502 mAh.cm-3\n",
      "******************************\n",
      "Applied Current -0.15830721003134796 A Time 0.625 hrs Capacity 98.94200626959247 mAh\n",
      "Applied Current 0.15830721003134796 A Time 0.671 hrs Capacity 106.22413793103448 mAh\n",
      "Negative : Positive electrode thickness 1.3\n",
      "Total Charge/Discharge Time 1.296 hrs\n",
      "Total Capacity 205.166 mAh\n",
      "Total Capacity 181.00683602190125 mAh.cm-3\n",
      "******************************\n",
      "Applied Current -0.15830721003134796 A Time 0.659 hrs Capacity 104.3244514106583 mAh\n",
      "Applied Current 0.15830721003134796 A Time 0.753 hrs Capacity 119.205329153605 mAh\n",
      "Negative : Positive electrode thickness 1.45\n",
      "Total Charge/Discharge Time 1.412 hrs\n",
      "Total Capacity 223.53 mAh\n",
      "Total Capacity 186.2523752992387 mAh.cm-3\n",
      "******************************\n",
      "Applied Current -0.15830721003134796 A Time 0.698 hrs Capacity 110.49843260188086 mAh\n",
      "Applied Current 0.15830721003134796 A Time 0.829 hrs Capacity 131.23667711598745 mAh\n",
      "Negative : Positive electrode thickness 1.6\n",
      "Total Charge/Discharge Time 1.527 hrs\n",
      "Total Capacity 241.735 mAh\n",
      "Total Capacity 190.82024147784387 mAh.cm-3\n",
      "******************************\n",
      "Applied Current -0.15830721003134796 A Time 0.744 hrs Capacity 117.78056426332287 mAh\n",
      "Applied Current 0.15830721003134796 A Time 0.849 hrs Capacity 134.4028213166144 mAh\n",
      "Negative : Positive electrode thickness 1.75\n",
      "Total Charge/Discharge Time 1.593 hrs\n",
      "Total Capacity 252.183 mAh\n",
      "Total Capacity 189.11427765436014 mAh.cm-3\n",
      "******************************\n",
      "Applied Current -0.15830721003134796 A Time 0.789 hrs Capacity 124.90438871473354 mAh\n",
      "Applied Current 0.15830721003134796 A Time 0.849 hrs Capacity 134.4028213166144 mAh\n",
      "Negative : Positive electrode thickness 1.9\n",
      "Total Charge/Discharge Time 1.638 hrs\n",
      "Total Capacity 259.307 mAh\n",
      "Total Capacity 185.19678923910382 mAh.cm-3\n",
      "******************************\n",
      "Applied Current -0.15830721003134796 A Time 0.823 hrs Capacity 130.28683385579936 mAh\n",
      "Applied Current 0.15830721003134796 A Time 0.849 hrs Capacity 134.4028213166144 mAh\n",
      "Negative : Positive electrode thickness 2.05\n",
      "Total Charge/Discharge Time 1.672 hrs\n",
      "Total Capacity 264.69 mAh\n",
      "Total Capacity 180.44853485665925 mAh.cm-3\n",
      "******************************\n",
      "Applied Current -0.15830721003134796 A Time 0.84 hrs Capacity 132.97805642633227 mAh\n",
      "Applied Current 0.15830721003134796 A Time 0.85 hrs Capacity 134.56112852664575 mAh\n",
      "Negative : Positive electrode thickness 2.2\n",
      "Total Charge/Discharge Time 1.69 hrs\n",
      "Total Capacity 267.539 mAh\n",
      "Total Capacity 174.46076418753137 mAh.cm-3\n",
      "******************************\n",
      "Applied Current -0.15830721003134796 A Time 0.846 hrs Capacity 133.92789968652036 mAh\n",
      "Applied Current 0.15830721003134796 A Time 0.85 hrs Capacity 134.56112852664575 mAh\n",
      "Negative : Positive electrode thickness 2.35\n",
      "Total Charge/Discharge Time 1.696 hrs\n",
      "Total Capacity 268.489 mAh\n",
      "Total Capacity 167.78524356367367 mAh.cm-3\n",
      "******************************\n",
      "Applied Current -0.15830721003134796 A Time 0.848 hrs Capacity 134.24451410658307 mAh\n",
      "Applied Current 0.15830721003134796 A Time 0.851 hrs Capacity 134.7194357366771 mAh\n",
      "Negative : Positive electrode thickness 2.5\n",
      "Total Charge/Discharge Time 1.6989999999999998 hrs\n",
      "Total Capacity 268.964 mAh\n",
      "Total Capacity 161.35879920542564 mAh.cm-3\n"
     ]
    }
   ],
   "source": [
    "import pybamm\n",
    "import numpy as np\n",
    "import matplotlib.pyplot as plt\n",
    "\n",
    "factor = 6.38\n",
    "capacities = []\n",
    "specific_capacities = []\n",
    "l_p = 1e-4\n",
    "thicknesses = np.linspace(1.0, 2.5, 11) * l_p\n",
    "for l_n in thicknesses:\n",
    "    e_ratio = np.around(l_n / l_p, 3)\n",
    "    # Dimensions\n",
    "    h = 0.137\n",
    "    w = 0.207 / factor\n",
    "    A = h * w\n",
    "    l_s = 2.5e-5\n",
    "    l1d = l_n + l_p + l_s\n",
    "    vol = h * w * l1d\n",
    "    vol_cm3 = vol * 1e6\n",
    "    tot_cap = 0.0\n",
    "    tot_time = 0.0\n",
    "    fig, axes = plt.subplots(1, 2, sharey=True)\n",
    "    I_mag = 1.01 / factor\n",
    "    print(\"*\" * 30)\n",
    "    for enum, I_app in enumerate([-1.0, 1.0]):\n",
    "        I_app *= I_mag\n",
    "        # load model\n",
    "        model = pybamm.lithium_ion.SPMe()\n",
    "        # create geometry\n",
    "        geometry = model.default_geometry\n",
    "        # load parameter values and process model and geometry\n",
    "        param = model.default_parameter_values\n",
    "        param.update(\n",
    "            {\n",
    "                \"Electrode height [m]\": h,\n",
    "                \"Electrode width [m]\": w,\n",
    "                \"Negative electrode thickness [m]\": l_n,\n",
    "                \"Positive electrode thickness [m]\": l_p,\n",
    "                \"Separator thickness [m]\": l_s,\n",
    "                \"Lower voltage cut-off [V]\": 2.8,\n",
    "                \"Upper voltage cut-off [V]\": 4.7,\n",
    "                \"Maximum concentration in negative electrode [mol.m-3]\": 25000,\n",
    "                \"Maximum concentration in positive electrode [mol.m-3]\": 50000,\n",
    "                \"Initial concentration in negative electrode [mol.m-3]\": 12500,\n",
    "                \"Initial concentration in positive electrode [mol.m-3]\": 25000,\n",
    "                \"Current function [A]\": I_app,\n",
    "            }\n",
    "        )\n",
    "        param.process_model(model)\n",
    "        param.process_geometry(geometry)\n",
    "        s_var = pybamm.standard_spatial_vars\n",
    "        var_pts = {\n",
    "            s_var.x_n: 5,\n",
    "            s_var.x_s: 5,\n",
    "            s_var.x_p: 5,\n",
    "            s_var.r_n: 5,\n",
    "            s_var.r_p: 10,\n",
    "        }\n",
    "        # set mesh\n",
    "        mesh = pybamm.Mesh(geometry, model.default_submesh_types, var_pts)\n",
    "        # discretise model\n",
    "        disc = pybamm.Discretisation(mesh, model.default_spatial_methods)\n",
    "        disc.process_model(model)\n",
    "        # solve model\n",
    "        t_eval = np.linspace(0, 3600, 100)\n",
    "        sol = model.default_solver.solve(model, t_eval)\n",
    "        xpext = sol[\"X-averaged positive electrode extent of lithiation\"]\n",
    "        xnext = sol[\"X-averaged negative electrode extent of lithiation\"]\n",
    "        xpsurf = sol[\"X-averaged positive particle surface concentration\"]\n",
    "        xnsurf = sol[\"X-averaged negative particle surface concentration\"]\n",
    "        time = sol[\"Time [h]\"]\n",
    "        # Coulomb counting\n",
    "        time_secs = sol[\"Time [s]\"].entries\n",
    "        time_hours = time(time_secs)\n",
    "        dc_time = np.around(time_hours[-1], 3)\n",
    "        # Capacity mAh\n",
    "        cap = np.absolute(I_app * 1000 * dc_time)\n",
    "        cap_time = np.absolute(I_app * 1000 * time_hours)\n",
    "        axes[enum].plot(cap_time, xnext(time_secs), \"r-\", label=\"Average Neg\")\n",
    "        axes[enum].plot(cap_time, xpext(time_secs), \"b-\", label=\"Average Pos\")\n",
    "        axes[enum].plot(cap_time, xnsurf(time_secs), \"r--\", label=\"Surface Neg\")\n",
    "        axes[enum].plot(cap_time, xpsurf(time_secs), \"b--\", label=\"Surface Pos\")\n",
    "        axes[enum].set_xlabel(\"Capacity [mAh]\")\n",
    "        handles, labels = axes[enum].get_legend_handles_labels()\n",
    "        axes[enum].legend(handles, labels)\n",
    "        if I_app < 0.0:\n",
    "            axes[enum].set_ylabel(\n",
    "                \"Extent of Lithiation, Elecrode Ratio: \" + str(e_ratio)\n",
    "            )\n",
    "            axes[enum].title.set_text(\"Charge\")\n",
    "        else:\n",
    "            axes[enum].title.set_text(\"Discharge\")\n",
    "        print(\n",
    "            \"Applied Current\",\n",
    "            I_app,\n",
    "            \"A\",\n",
    "            \"Time\",\n",
    "            dc_time,\n",
    "            \"hrs\",\n",
    "            \"Capacity\",\n",
    "            cap,\n",
    "            \"mAh\",\n",
    "        )\n",
    "        tot_cap += cap\n",
    "        tot_time += dc_time\n",
    "    print(\"Negative : Positive electrode thickness\", e_ratio)\n",
    "    print(\"Total Charge/Discharge Time\", tot_time, \"hrs\")\n",
    "    print(\"Total Capacity\", np.around(tot_cap, 3), \"mAh\")\n",
    "    specific_cap = np.around(tot_cap, 3) / vol_cm3\n",
    "    print(\"Total Capacity\", specific_cap, \"mAh.cm-3\")\n",
    "    capacities.append(tot_cap)\n",
    "    specific_capacities.append(specific_cap)\n",
    "\n",
    "fig, (ax1, ax2) = plt.subplots(2, 1, sharex=True)\n",
    "ax1.plot(thicknesses / l_p, capacities)\n",
    "ax2.plot(thicknesses / l_p, specific_capacities)\n",
    "ax1.set_ylabel(\"Capacity [mAh]\")\n",
    "ax2.set_ylabel(\"Specific Capacity [mAh.cm-3]\")\n",
    "ax2.set_xlabel(\"Negative : Positive electrode thickness\")\n",
    "plt.show()"
   ]
  },
  {
   "cell_type": "code",
   "execution_count": 14,
   "metadata": {},
   "outputs": [
    {
     "name": "stdout",
     "output_type": "stream",
     "text": [
      "No results for search using 'initial'. Best matches are ['Time', 'Electrolyte potential', 'Interfacial current density']\n"
     ]
    }
   ],
   "source": [
    "model.variables.search(\"initial\")"
   ]
  },
  {
   "cell_type": "code",
   "execution_count": 15,
   "metadata": {
    "collapsed": true,
    "jupyter": {
     "outputs_hidden": true
    }
   },
   "outputs": [
    {
     "data": {
      "text/plain": [
       "{'1 + dlnf/dlnc': 1.0,\n",
       " 'Ambient temperature [K]': 298.15,\n",
       " 'Bulk solvent concentration [mol.m-3]': 2636.0,\n",
       " 'Cation transference number': 0.4,\n",
       " 'Cell cooling surface area [m2]': 0.0569,\n",
       " 'Cell volume [m3]': 7.8e-06,\n",
       " 'Current function [A]': 0.15830721003134796,\n",
       " 'EC diffusivity [m2.s-1]': 2e-18,\n",
       " 'EC initial concentration in electrolyte [mol.m-3]': 4541.0,\n",
       " 'Edge heat transfer coefficient [W.m-2.K-1]': 0.3,\n",
       " 'Electrode height [m]': 0.137,\n",
       " 'Electrode width [m]': 0.03244514106583072,\n",
       " 'Electrolyte conductivity [S.m-1]': <function electrolyte_conductivity_Capiglia1999 at 0x12c6e2160>,\n",
       " 'Electrolyte diffusivity [m2.s-1]': <function electrolyte_diffusivity_Capiglia1999 at 0x12c6e2280>,\n",
       " 'Initial concentration in electrolyte [mol.m-3]': 1000.0,\n",
       " 'Initial concentration in negative electrode [mol.m-3]': 12500,\n",
       " 'Initial concentration in positive electrode [mol.m-3]': 25000,\n",
       " 'Initial inner SEI thickness [m]': 2.5e-09,\n",
       " 'Initial outer SEI thickness [m]': 2.5e-09,\n",
       " 'Initial temperature [K]': 298.15,\n",
       " 'Inner SEI electron conductivity [S.m-1]': 8.95e-14,\n",
       " 'Inner SEI lithium interstitial diffusivity [m2.s-1]': 1.0000000000000001e-20,\n",
       " 'Inner SEI open-circuit potential [V]': 0.1,\n",
       " 'Inner SEI partial molar volume [m3.mol-1]': 9.585e-05,\n",
       " 'Inner SEI reaction proportion': 0.5,\n",
       " 'Lithium interstitial reference concentration [mol.m-3]': 15.0,\n",
       " 'Lower voltage cut-off [V]': 2.8,\n",
       " 'Maximum concentration in negative electrode [mol.m-3]': 25000,\n",
       " 'Maximum concentration in positive electrode [mol.m-3]': 50000,\n",
       " 'Negative current collector conductivity [S.m-1]': 59600000.0,\n",
       " 'Negative current collector density [kg.m-3]': 8954.0,\n",
       " 'Negative current collector specific heat capacity [J.kg-1.K-1]': 385.0,\n",
       " 'Negative current collector surface heat transfer coefficient [W.m-2.K-1]': 0.0,\n",
       " 'Negative current collector thermal conductivity [W.m-1.K-1]': 401.0,\n",
       " 'Negative current collector thickness [m]': 2.5e-05,\n",
       " 'Negative electrode Bruggeman coefficient (electrode)': 1.5,\n",
       " 'Negative electrode Bruggeman coefficient (electrolyte)': 1.5,\n",
       " 'Negative electrode OCP [V]': <function graphite_mcmb2528_ocp_Dualfoil1998 at 0x12c6e23a0>,\n",
       " 'Negative electrode OCP entropic change [V.K-1]': <function graphite_entropic_change_Moura2016 at 0x12c6e21f0>,\n",
       " 'Negative electrode active material volume fraction': 0.6,\n",
       " 'Negative electrode cation signed stoichiometry': -1.0,\n",
       " 'Negative electrode charge transfer coefficient': 0.5,\n",
       " 'Negative electrode conductivity [S.m-1]': 100.0,\n",
       " 'Negative electrode density [kg.m-3]': 1657.0,\n",
       " 'Negative electrode diffusivity [m2.s-1]': <function graphite_mcmb2528_diffusivity_Dualfoil1998 at 0x12c6d0f70>,\n",
       " 'Negative electrode double-layer capacity [F.m-2]': 0.2,\n",
       " 'Negative electrode electrons in reaction': 1.0,\n",
       " 'Negative electrode exchange-current density [A.m-2]': <function graphite_electrolyte_exchange_current_density_Dualfoil1998 at 0x12c6e2310>,\n",
       " 'Negative electrode porosity': 0.3,\n",
       " 'Negative electrode specific heat capacity [J.kg-1.K-1]': 700.0,\n",
       " 'Negative electrode thermal conductivity [W.m-1.K-1]': 1.7,\n",
       " 'Negative electrode thickness [m]': 0.00025,\n",
       " 'Negative particle radius [m]': 1e-05,\n",
       " 'Negative tab centre y-coordinate [m]': 0.06,\n",
       " 'Negative tab centre z-coordinate [m]': 0.13699999999999998,\n",
       " 'Negative tab heat transfer coefficient [W.m-2.K-1]': 10.0,\n",
       " 'Negative tab width [m]': 0.04,\n",
       " 'Nominal cell capacity [A.h]': 0.680616,\n",
       " 'Number of cells connected in series to make a battery': 1.0,\n",
       " 'Number of electrodes connected in parallel to make a cell': 1.0,\n",
       " 'Outer SEI open-circuit potential [V]': 0.8,\n",
       " 'Outer SEI partial molar volume [m3.mol-1]': 9.585e-05,\n",
       " 'Outer SEI solvent diffusivity [m2.s-1]': 2.5000000000000002e-22,\n",
       " 'Positive current collector conductivity [S.m-1]': 35500000.0,\n",
       " 'Positive current collector density [kg.m-3]': 2707.0,\n",
       " 'Positive current collector specific heat capacity [J.kg-1.K-1]': 897.0,\n",
       " 'Positive current collector surface heat transfer coefficient [W.m-2.K-1]': 0.0,\n",
       " 'Positive current collector thermal conductivity [W.m-1.K-1]': 237.0,\n",
       " 'Positive current collector thickness [m]': 2.5e-05,\n",
       " 'Positive electrode Bruggeman coefficient (electrode)': 1.5,\n",
       " 'Positive electrode Bruggeman coefficient (electrolyte)': 1.5,\n",
       " 'Positive electrode OCP [V]': <function lico2_ocp_Dualfoil1998 at 0x12c6e2040>,\n",
       " 'Positive electrode OCP entropic change [V.K-1]': <function lico2_entropic_change_Moura2016 at 0x12c6e2820>,\n",
       " 'Positive electrode active material volume fraction': 0.5,\n",
       " 'Positive electrode cation signed stoichiometry': -1.0,\n",
       " 'Positive electrode charge transfer coefficient': 0.5,\n",
       " 'Positive electrode conductivity [S.m-1]': 10.0,\n",
       " 'Positive electrode density [kg.m-3]': 3262.0,\n",
       " 'Positive electrode diffusivity [m2.s-1]': <function lico2_diffusivity_Dualfoil1998 at 0x12c6e20d0>,\n",
       " 'Positive electrode double-layer capacity [F.m-2]': 0.2,\n",
       " 'Positive electrode electrons in reaction': 1.0,\n",
       " 'Positive electrode exchange-current density [A.m-2]': <function lico2_electrolyte_exchange_current_density_Dualfoil1998 at 0x12c6e2700>,\n",
       " 'Positive electrode porosity': 0.3,\n",
       " 'Positive electrode specific heat capacity [J.kg-1.K-1]': 700.0,\n",
       " 'Positive electrode thermal conductivity [W.m-1.K-1]': 2.1,\n",
       " 'Positive electrode thickness [m]': 0.0001,\n",
       " 'Positive particle radius [m]': 1e-05,\n",
       " 'Positive tab centre y-coordinate [m]': 0.147,\n",
       " 'Positive tab centre z-coordinate [m]': 0.13699999999999998,\n",
       " 'Positive tab heat transfer coefficient [W.m-2.K-1]': 10.0,\n",
       " 'Positive tab width [m]': 0.04,\n",
       " 'Ratio of inner and outer SEI exchange current densities': 1.0,\n",
       " 'Reference OCP vs SHE in the negative electrode [V]': nan,\n",
       " 'Reference OCP vs SHE in the positive electrode [V]': nan,\n",
       " 'Reference temperature [K]': 298.15,\n",
       " 'SEI kinetic rate constant [m.s-1]': 1e-12,\n",
       " 'SEI open-circuit potential [V]': 0.4,\n",
       " 'SEI reaction exchange current density [A.m-2]': 1.5e-07,\n",
       " 'SEI resistivity [Ohm.m]': 5000000.0,\n",
       " 'Separator Bruggeman coefficient (electrolyte)': 1.5,\n",
       " 'Separator density [kg.m-3]': 397.0,\n",
       " 'Separator porosity': 1.0,\n",
       " 'Separator specific heat capacity [J.kg-1.K-1]': 700.0,\n",
       " 'Separator thermal conductivity [W.m-1.K-1]': 0.16,\n",
       " 'Separator thickness [m]': 2.5e-05,\n",
       " 'Total heat transfer coefficient [W.m-2.K-1]': 10.0,\n",
       " 'Typical current [A]': 0.680616,\n",
       " 'Typical electrolyte concentration [mol.m-3]': 1000.0,\n",
       " 'Upper voltage cut-off [V]': 4.7}"
      ]
     },
     "execution_count": 15,
     "metadata": {},
     "output_type": "execute_result"
    }
   ],
   "source": [
    "param"
   ]
  },
  {
   "cell_type": "code",
   "execution_count": 20,
   "metadata": {},
   "outputs": [],
   "source": [
    "chemistry = pybamm.parameter_sets.Chen2020"
   ]
  },
  {
   "cell_type": "code",
   "execution_count": 21,
   "metadata": {},
   "outputs": [
    {
     "data": {
      "text/plain": [
       "{'chemistry': 'lithium-ion',\n",
       " 'cell': 'LGM50_Chen2020',\n",
       " 'negative electrode': 'graphite_Chen2020',\n",
       " 'separator': 'separator_Chen2020',\n",
       " 'positive electrode': 'nmc_Chen2020',\n",
       " 'electrolyte': 'lipf6_Nyman2008',\n",
       " 'experiment': '1C_discharge_from_full_Chen2020',\n",
       " 'sei': 'example',\n",
       " 'citation': 'Chen2020'}"
      ]
     },
     "execution_count": 21,
     "metadata": {},
     "output_type": "execute_result"
    }
   ],
   "source": [
    "chemistry"
   ]
  },
  {
   "cell_type": "code",
   "execution_count": 22,
   "metadata": {
    "collapsed": true,
    "jupyter": {
     "outputs_hidden": true
    }
   },
   "outputs": [
    {
     "data": {
      "text/plain": [
       "{'1 + dlnf/dlnc': 1.0,\n",
       " 'Ambient temperature [K]': 298.15,\n",
       " 'Bulk solvent concentration [mol.m-3]': 2636.0,\n",
       " 'Cation transference number': 0.4,\n",
       " 'Cell cooling surface area [m2]': 0.0569,\n",
       " 'Cell volume [m3]': 7.8e-06,\n",
       " 'Current function [A]': 0.680616,\n",
       " 'EC diffusivity [m2.s-1]': 2e-18,\n",
       " 'EC initial concentration in electrolyte [mol.m-3]': 4541.0,\n",
       " 'Edge heat transfer coefficient [W.m-2.K-1]': 0.3,\n",
       " 'Electrode height [m]': 0.13699999999999998,\n",
       " 'Electrode width [m]': 0.207,\n",
       " 'Electrolyte conductivity [S.m-1]': <function electrolyte_conductivity_Capiglia1999 at 0x12c6e2160>,\n",
       " 'Electrolyte diffusivity [m2.s-1]': <function electrolyte_diffusivity_Capiglia1999 at 0x12c6e2280>,\n",
       " 'Initial concentration in electrolyte [mol.m-3]': 1000.0,\n",
       " 'Initial concentration in negative electrode [mol.m-3]': 19986.609595075,\n",
       " 'Initial concentration in positive electrode [mol.m-3]': 30730.755438556498,\n",
       " 'Initial inner SEI thickness [m]': 2.5e-09,\n",
       " 'Initial outer SEI thickness [m]': 2.5e-09,\n",
       " 'Initial temperature [K]': 298.15,\n",
       " 'Inner SEI electron conductivity [S.m-1]': 8.95e-14,\n",
       " 'Inner SEI lithium interstitial diffusivity [m2.s-1]': 1.0000000000000001e-20,\n",
       " 'Inner SEI open-circuit potential [V]': 0.1,\n",
       " 'Inner SEI partial molar volume [m3.mol-1]': 9.585e-05,\n",
       " 'Inner SEI reaction proportion': 0.5,\n",
       " 'Lithium interstitial reference concentration [mol.m-3]': 15.0,\n",
       " 'Lower voltage cut-off [V]': 3.105,\n",
       " 'Maximum concentration in negative electrode [mol.m-3]': 24983.2619938437,\n",
       " 'Maximum concentration in positive electrode [mol.m-3]': 51217.9257309275,\n",
       " 'Negative current collector conductivity [S.m-1]': 59600000.0,\n",
       " 'Negative current collector density [kg.m-3]': 8954.0,\n",
       " 'Negative current collector specific heat capacity [J.kg-1.K-1]': 385.0,\n",
       " 'Negative current collector surface heat transfer coefficient [W.m-2.K-1]': 0.0,\n",
       " 'Negative current collector thermal conductivity [W.m-1.K-1]': 401.0,\n",
       " 'Negative current collector thickness [m]': 2.5e-05,\n",
       " 'Negative electrode Bruggeman coefficient (electrode)': 1.5,\n",
       " 'Negative electrode Bruggeman coefficient (electrolyte)': 1.5,\n",
       " 'Negative electrode OCP [V]': <function graphite_mcmb2528_ocp_Dualfoil1998 at 0x12c6e23a0>,\n",
       " 'Negative electrode OCP entropic change [V.K-1]': <function graphite_entropic_change_Moura2016 at 0x12c6e21f0>,\n",
       " 'Negative electrode active material volume fraction': 0.6,\n",
       " 'Negative electrode cation signed stoichiometry': -1.0,\n",
       " 'Negative electrode charge transfer coefficient': 0.5,\n",
       " 'Negative electrode conductivity [S.m-1]': 100.0,\n",
       " 'Negative electrode density [kg.m-3]': 1657.0,\n",
       " 'Negative electrode diffusivity [m2.s-1]': <function graphite_mcmb2528_diffusivity_Dualfoil1998 at 0x12c6d0f70>,\n",
       " 'Negative electrode double-layer capacity [F.m-2]': 0.2,\n",
       " 'Negative electrode electrons in reaction': 1.0,\n",
       " 'Negative electrode exchange-current density [A.m-2]': <function graphite_electrolyte_exchange_current_density_Dualfoil1998 at 0x12c6e2310>,\n",
       " 'Negative electrode porosity': 0.3,\n",
       " 'Negative electrode specific heat capacity [J.kg-1.K-1]': 700.0,\n",
       " 'Negative electrode thermal conductivity [W.m-1.K-1]': 1.7,\n",
       " 'Negative electrode thickness [m]': 0.0001,\n",
       " 'Negative particle radius [m]': 1e-05,\n",
       " 'Negative tab centre y-coordinate [m]': 0.06,\n",
       " 'Negative tab centre z-coordinate [m]': 0.13699999999999998,\n",
       " 'Negative tab heat transfer coefficient [W.m-2.K-1]': 10.0,\n",
       " 'Negative tab width [m]': 0.04,\n",
       " 'Nominal cell capacity [A.h]': 0.680616,\n",
       " 'Number of cells connected in series to make a battery': 1.0,\n",
       " 'Number of electrodes connected in parallel to make a cell': 1.0,\n",
       " 'Outer SEI open-circuit potential [V]': 0.8,\n",
       " 'Outer SEI partial molar volume [m3.mol-1]': 9.585e-05,\n",
       " 'Outer SEI solvent diffusivity [m2.s-1]': 2.5000000000000002e-22,\n",
       " 'Positive current collector conductivity [S.m-1]': 35500000.0,\n",
       " 'Positive current collector density [kg.m-3]': 2707.0,\n",
       " 'Positive current collector specific heat capacity [J.kg-1.K-1]': 897.0,\n",
       " 'Positive current collector surface heat transfer coefficient [W.m-2.K-1]': 0.0,\n",
       " 'Positive current collector thermal conductivity [W.m-1.K-1]': 237.0,\n",
       " 'Positive current collector thickness [m]': 2.5e-05,\n",
       " 'Positive electrode Bruggeman coefficient (electrode)': 1.5,\n",
       " 'Positive electrode Bruggeman coefficient (electrolyte)': 1.5,\n",
       " 'Positive electrode OCP [V]': <function lico2_ocp_Dualfoil1998 at 0x12c6e2040>,\n",
       " 'Positive electrode OCP entropic change [V.K-1]': <function lico2_entropic_change_Moura2016 at 0x12c6e2820>,\n",
       " 'Positive electrode active material volume fraction': 0.5,\n",
       " 'Positive electrode cation signed stoichiometry': -1.0,\n",
       " 'Positive electrode charge transfer coefficient': 0.5,\n",
       " 'Positive electrode conductivity [S.m-1]': 10.0,\n",
       " 'Positive electrode density [kg.m-3]': 3262.0,\n",
       " 'Positive electrode diffusivity [m2.s-1]': <function lico2_diffusivity_Dualfoil1998 at 0x12c6e20d0>,\n",
       " 'Positive electrode double-layer capacity [F.m-2]': 0.2,\n",
       " 'Positive electrode electrons in reaction': 1.0,\n",
       " 'Positive electrode exchange-current density [A.m-2]': <function lico2_electrolyte_exchange_current_density_Dualfoil1998 at 0x12c6e2700>,\n",
       " 'Positive electrode porosity': 0.3,\n",
       " 'Positive electrode specific heat capacity [J.kg-1.K-1]': 700.0,\n",
       " 'Positive electrode thermal conductivity [W.m-1.K-1]': 2.1,\n",
       " 'Positive electrode thickness [m]': 0.0001,\n",
       " 'Positive particle radius [m]': 1e-05,\n",
       " 'Positive tab centre y-coordinate [m]': 0.147,\n",
       " 'Positive tab centre z-coordinate [m]': 0.13699999999999998,\n",
       " 'Positive tab heat transfer coefficient [W.m-2.K-1]': 10.0,\n",
       " 'Positive tab width [m]': 0.04,\n",
       " 'Ratio of inner and outer SEI exchange current densities': 1.0,\n",
       " 'Reference OCP vs SHE in the negative electrode [V]': nan,\n",
       " 'Reference OCP vs SHE in the positive electrode [V]': nan,\n",
       " 'Reference temperature [K]': 298.15,\n",
       " 'SEI kinetic rate constant [m.s-1]': 1e-12,\n",
       " 'SEI open-circuit potential [V]': 0.4,\n",
       " 'SEI reaction exchange current density [A.m-2]': 1.5e-07,\n",
       " 'SEI resistivity [Ohm.m]': 5000000.0,\n",
       " 'Separator Bruggeman coefficient (electrolyte)': 1.5,\n",
       " 'Separator density [kg.m-3]': 397.0,\n",
       " 'Separator porosity': 1.0,\n",
       " 'Separator specific heat capacity [J.kg-1.K-1]': 700.0,\n",
       " 'Separator thermal conductivity [W.m-1.K-1]': 0.16,\n",
       " 'Separator thickness [m]': 2.5e-05,\n",
       " 'Total heat transfer coefficient [W.m-2.K-1]': 10.0,\n",
       " 'Typical current [A]': 0.680616,\n",
       " 'Typical electrolyte concentration [mol.m-3]': 1000.0,\n",
       " 'Upper voltage cut-off [V]': 4.7}"
      ]
     },
     "execution_count": 22,
     "metadata": {},
     "output_type": "execute_result"
    }
   ],
   "source": [
    "default_parameter = model.default_parameter_values\n",
    "default_parameter"
   ]
  },
  {
   "cell_type": "code",
   "execution_count": 23,
   "metadata": {
    "collapsed": true,
    "jupyter": {
     "outputs_hidden": true
    }
   },
   "outputs": [
    {
     "data": {
      "text/plain": [
       "{'1 + dlnf/dlnc': 1.0,\n",
       " 'Ambient temperature [K]': 298.15,\n",
       " 'Bulk solvent concentration [mol.m-3]': 2636.0,\n",
       " 'Cation transference number': 0.2594,\n",
       " 'Cell cooling surface area [m2]': 0.0053100000000000005,\n",
       " 'Cell volume [m3]': 2.42e-05,\n",
       " 'Current function [A]': 5.0,\n",
       " 'EC diffusivity [m2.s-1]': 2e-18,\n",
       " 'EC initial concentration in electrolyte [mol.m-3]': 4541.0,\n",
       " 'Electrode height [m]': 0.065,\n",
       " 'Electrode width [m]': 1.58,\n",
       " 'Electrolyte conductivity [S.m-1]': <function electrolyte_conductivity_Nyman2008 at 0x157512790>,\n",
       " 'Electrolyte diffusivity [m2.s-1]': <function electrolyte_diffusivity_Nyman2008 at 0x157512af0>,\n",
       " 'Initial concentration in electrolyte [mol.m-3]': 1000.0,\n",
       " 'Initial concentration in negative electrode [mol.m-3]': 29866.0,\n",
       " 'Initial concentration in positive electrode [mol.m-3]': 17038.0,\n",
       " 'Initial inner SEI thickness [m]': 2.5e-09,\n",
       " 'Initial outer SEI thickness [m]': 2.5e-09,\n",
       " 'Initial temperature [K]': 298.15,\n",
       " 'Inner SEI electron conductivity [S.m-1]': 8.95e-14,\n",
       " 'Inner SEI lithium interstitial diffusivity [m2.s-1]': 1.0000000000000001e-20,\n",
       " 'Inner SEI open-circuit potential [V]': 0.1,\n",
       " 'Inner SEI partial molar volume [m3.mol-1]': 9.585e-05,\n",
       " 'Inner SEI reaction proportion': 0.5,\n",
       " 'Lithium interstitial reference concentration [mol.m-3]': 15.0,\n",
       " 'Lower voltage cut-off [V]': 2.5,\n",
       " 'Maximum concentration in negative electrode [mol.m-3]': 33133.0,\n",
       " 'Maximum concentration in positive electrode [mol.m-3]': 63104.0,\n",
       " 'Negative current collector conductivity [S.m-1]': 58411000.0,\n",
       " 'Negative current collector density [kg.m-3]': 8960.0,\n",
       " 'Negative current collector specific heat capacity [J.kg-1.K-1]': 385.0,\n",
       " 'Negative current collector thermal conductivity [W.m-1.K-1]': 401.0,\n",
       " 'Negative current collector thickness [m]': 1.2e-05,\n",
       " 'Negative electrode Bruggeman coefficient (electrode)': 1.5,\n",
       " 'Negative electrode Bruggeman coefficient (electrolyte)': 1.5,\n",
       " 'Negative electrode OCP [V]': ('graphite_LGM50_ocp_Chen2020',\n",
       "                                array([[0.        , 1.81772748],\n",
       "       [0.03129623, 1.0828807 ],\n",
       "       [0.03499902, 0.99593794],\n",
       "       [0.0387018 , 0.90023398],\n",
       "       [0.04240458, 0.79649431],\n",
       "       [0.04610736, 0.73354429],\n",
       "       [0.04981015, 0.66664314],\n",
       "       [0.05351292, 0.64137149],\n",
       "       [0.05721568, 0.59813869],\n",
       "       [0.06091845, 0.5670836 ],\n",
       "       [0.06462122, 0.54746181],\n",
       "       [0.06832399, 0.53068399],\n",
       "       [0.07202675, 0.51304734],\n",
       "       [0.07572951, 0.49394092],\n",
       "       [0.07943227, 0.47926274],\n",
       "       [0.08313503, 0.46065259],\n",
       "       [0.08683779, 0.45992726],\n",
       "       [0.09054054, 0.43801501],\n",
       "       [0.09424331, 0.42438665],\n",
       "       [0.09794607, 0.41150269],\n",
       "       [0.10164883, 0.40033659],\n",
       "       [0.10535158, 0.38957134],\n",
       "       [0.10905434, 0.37756538],\n",
       "       [0.1127571 , 0.36292541],\n",
       "       [0.11645985, 0.34357086],\n",
       "       [0.12016261, 0.3406314 ],\n",
       "       [0.12386536, 0.32299468],\n",
       "       [0.12756811, 0.31379458],\n",
       "       [0.13127086, 0.30795386],\n",
       "       [0.13497362, 0.29207319],\n",
       "       [0.13867638, 0.28697687],\n",
       "       [0.14237913, 0.27405477],\n",
       "       [0.14608189, 0.2670497 ],\n",
       "       [0.14978465, 0.25857493],\n",
       "       [0.15348741, 0.25265783],\n",
       "       [0.15719018, 0.24826777],\n",
       "       [0.16089294, 0.2414345 ],\n",
       "       [0.1645957 , 0.23362778],\n",
       "       [0.16829847, 0.22956218],\n",
       "       [0.17200122, 0.22370236],\n",
       "       [0.17570399, 0.22181271],\n",
       "       [0.17940674, 0.22089651],\n",
       "       [0.1831095 , 0.2194268 ],\n",
       "       [0.18681229, 0.21830064],\n",
       "       [0.19051504, 0.21845333],\n",
       "       [0.1942178 , 0.21753715],\n",
       "       [0.19792056, 0.21719357],\n",
       "       [0.20162334, 0.21635373],\n",
       "       [0.2053261 , 0.21667822],\n",
       "       [0.20902886, 0.21738444],\n",
       "       [0.21273164, 0.21469313],\n",
       "       [0.2164344 , 0.21541846],\n",
       "       [0.22013716, 0.21465495],\n",
       "       [0.22383993, 0.2135479 ],\n",
       "       [0.2275427 , 0.21392964],\n",
       "       [0.23124547, 0.21074206],\n",
       "       [0.23494825, 0.20873788],\n",
       "       [0.23865101, 0.20465319],\n",
       "       [0.24235377, 0.20205732],\n",
       "       [0.24605653, 0.19774358],\n",
       "       [0.2497593 , 0.19444147],\n",
       "       [0.25346208, 0.19190285],\n",
       "       [0.25716486, 0.18850531],\n",
       "       [0.26086762, 0.18581399],\n",
       "       [0.26457039, 0.18327537],\n",
       "       [0.26827314, 0.18157659],\n",
       "       [0.2719759 , 0.17814088],\n",
       "       [0.27567867, 0.17529686],\n",
       "       [0.27938144, 0.1719375 ],\n",
       "       [0.28308421, 0.16934161],\n",
       "       [0.28678698, 0.16756649],\n",
       "       [0.29048974, 0.16609676],\n",
       "       [0.29419251, 0.16414985],\n",
       "       [0.29789529, 0.16260378],\n",
       "       [0.30159806, 0.16224113],\n",
       "       [0.30530083, 0.160027  ],\n",
       "       [0.30900361, 0.15827096],\n",
       "       [0.31270637, 0.1588054 ],\n",
       "       [0.31640913, 0.15552238],\n",
       "       [0.32011189, 0.15580869],\n",
       "       [0.32381466, 0.15220118],\n",
       "       [0.32751744, 0.1511132 ],\n",
       "       [0.33122021, 0.14987253],\n",
       "       [0.33492297, 0.14874637],\n",
       "       [0.33862575, 0.14678037],\n",
       "       [0.34232853, 0.14620776],\n",
       "       [0.34603131, 0.14555879],\n",
       "       [0.34973408, 0.14389819],\n",
       "       [0.35343685, 0.14359279],\n",
       "       [0.35713963, 0.14242846],\n",
       "       [0.36084241, 0.14038612],\n",
       "       [0.36454517, 0.13882096],\n",
       "       [0.36824795, 0.13954628],\n",
       "       [0.37195071, 0.13946992],\n",
       "       [0.37565348, 0.13780934],\n",
       "       [0.37935626, 0.13973714],\n",
       "       [0.38305904, 0.13698858],\n",
       "       [0.38676182, 0.13523254],\n",
       "       [0.3904646 , 0.13441178],\n",
       "       [0.39416737, 0.1352898 ],\n",
       "       [0.39787015, 0.13507985],\n",
       "       [0.40157291, 0.13647321],\n",
       "       [0.40527567, 0.13601512],\n",
       "       [0.40897844, 0.13435452],\n",
       "       [0.41268121, 0.1334765 ],\n",
       "       [0.41638398, 0.1348317 ],\n",
       "       [0.42008676, 0.13275118],\n",
       "       [0.42378953, 0.13286571],\n",
       "       [0.4274923 , 0.13263667],\n",
       "       [0.43119506, 0.13456447],\n",
       "       [0.43489784, 0.13471718],\n",
       "       [0.43860061, 0.13395369],\n",
       "       [0.44230338, 0.13448814],\n",
       "       [0.44600615, 0.1334765 ],\n",
       "       [0.44970893, 0.13298023],\n",
       "       [0.45341168, 0.13259849],\n",
       "       [0.45711444, 0.13338107],\n",
       "       [0.46081719, 0.13309476],\n",
       "       [0.46451994, 0.13275118],\n",
       "       [0.46822269, 0.13443087],\n",
       "       [0.47192545, 0.13315202],\n",
       "       [0.47562821, 0.132713  ],\n",
       "       [0.47933098, 0.1330184 ],\n",
       "       [0.48303375, 0.13278936],\n",
       "       [0.48673651, 0.13225491],\n",
       "       [0.49043926, 0.13317111],\n",
       "       [0.49414203, 0.13263667],\n",
       "       [0.49784482, 0.13187316],\n",
       "       [0.50154759, 0.13265574],\n",
       "       [0.50525036, 0.13250305],\n",
       "       [0.50895311, 0.13324745],\n",
       "       [0.51265586, 0.13204496],\n",
       "       [0.51635861, 0.13242669],\n",
       "       [0.52006139, 0.13233127],\n",
       "       [0.52376415, 0.13198769],\n",
       "       [0.52746692, 0.13254122],\n",
       "       [0.53116969, 0.13145325],\n",
       "       [0.53487245, 0.13298023],\n",
       "       [0.53857521, 0.13168229],\n",
       "       [0.54227797, 0.1313578 ],\n",
       "       [0.54598074, 0.13235036],\n",
       "       [0.5496835 , 0.13120511],\n",
       "       [0.55338627, 0.13089971],\n",
       "       [0.55708902, 0.13109058],\n",
       "       [0.56079178, 0.13082336],\n",
       "       [0.56449454, 0.13011713],\n",
       "       [0.5681973 , 0.129869  ],\n",
       "       [0.57190006, 0.12992626],\n",
       "       [0.57560282, 0.12942998],\n",
       "       [0.57930558, 0.12796026],\n",
       "       [0.58300835, 0.12862831],\n",
       "       [0.58671112, 0.12656689],\n",
       "       [0.59041389, 0.12734947],\n",
       "       [0.59411664, 0.12509716],\n",
       "       [0.59781941, 0.12110791],\n",
       "       [0.60152218, 0.11839751],\n",
       "       [0.60522496, 0.11244226],\n",
       "       [0.60892772, 0.11307214],\n",
       "       [0.61263048, 0.1092165 ],\n",
       "       [0.61633325, 0.10683058],\n",
       "       [0.62003603, 0.10433014],\n",
       "       [0.6237388 , 0.10530359],\n",
       "       [0.62744156, 0.10056993],\n",
       "       [0.63114433, 0.09950104],\n",
       "       [0.63484711, 0.09854668],\n",
       "       [0.63854988, 0.09921473],\n",
       "       [0.64225265, 0.09541635],\n",
       "       [0.64595543, 0.09980643],\n",
       "       [0.64965823, 0.0986612 ],\n",
       "       [0.653361  , 0.09560722],\n",
       "       [0.65706377, 0.09755413],\n",
       "       [0.66076656, 0.09612258],\n",
       "       [0.66446934, 0.09430929],\n",
       "       [0.66817212, 0.09661885],\n",
       "       [0.67187489, 0.09366032],\n",
       "       [0.67557767, 0.09522548],\n",
       "       [0.67928044, 0.09535909],\n",
       "       [0.68298322, 0.09316404],\n",
       "       [0.686686  , 0.09450016],\n",
       "       [0.69038878, 0.0930877 ],\n",
       "       [0.69409156, 0.09343126],\n",
       "       [0.69779433, 0.0932404 ],\n",
       "       [0.70149709, 0.09350762],\n",
       "       [0.70519988, 0.09339309],\n",
       "       [0.70890264, 0.09291591],\n",
       "       [0.7126054 , 0.09303043],\n",
       "       [0.71630818, 0.0926296 ],\n",
       "       [0.72001095, 0.0932404 ],\n",
       "       [0.72371371, 0.09261052],\n",
       "       [0.72741648, 0.09249599],\n",
       "       [0.73111925, 0.09240055],\n",
       "       [0.73482204, 0.09253416],\n",
       "       [0.7385248 , 0.09209515],\n",
       "       [0.74222757, 0.09234329],\n",
       "       [0.74593034, 0.09366032],\n",
       "       [0.74963312, 0.09333583],\n",
       "       [0.75333589, 0.09322131],\n",
       "       [0.75703868, 0.09264868],\n",
       "       [0.76074146, 0.09253416],\n",
       "       [0.76444422, 0.09243873],\n",
       "       [0.76814698, 0.09230512],\n",
       "       [0.77184976, 0.09310678],\n",
       "       [0.77555253, 0.09165615],\n",
       "       [0.77925531, 0.09159888],\n",
       "       [0.78295807, 0.09207606],\n",
       "       [0.78666085, 0.09175158],\n",
       "       [0.79036364, 0.09177067],\n",
       "       [0.79406641, 0.09236237],\n",
       "       [0.79776918, 0.09241964],\n",
       "       [0.80147197, 0.09320222],\n",
       "       [0.80517474, 0.09199972],\n",
       "       [0.80887751, 0.09167523],\n",
       "       [0.81258028, 0.09322131],\n",
       "       [0.81628304, 0.09190428],\n",
       "       [0.81998581, 0.09167523],\n",
       "       [0.82368858, 0.09285865],\n",
       "       [0.82739136, 0.09180884],\n",
       "       [0.83109411, 0.09150345],\n",
       "       [0.83479688, 0.09186611],\n",
       "       [0.83849965, 0.0920188 ],\n",
       "       [0.84220242, 0.09320222],\n",
       "       [0.84590519, 0.09131257],\n",
       "       [0.84960797, 0.09117896],\n",
       "       [0.85331075, 0.09133166],\n",
       "       [0.85701353, 0.09089265],\n",
       "       [0.86071631, 0.09058725],\n",
       "       [0.86441907, 0.09051091],\n",
       "       [0.86812186, 0.09033912],\n",
       "       [0.87182464, 0.09041547],\n",
       "       [0.87552742, 0.0911217 ],\n",
       "       [0.87923019, 0.0894611 ],\n",
       "       [0.88293296, 0.08999555],\n",
       "       [0.88663573, 0.08921297],\n",
       "       [0.89033849, 0.08881213],\n",
       "       [0.89404126, 0.08797229],\n",
       "       [0.89774404, 0.08709427],\n",
       "       [0.9014468 , 0.08503284],\n",
       "       [1.        , 0.07601531]])),\n",
       " 'Negative electrode OCP entropic change [V.K-1]': 0.0,\n",
       " 'Negative electrode active material volume fraction': 0.75,\n",
       " 'Negative electrode cation signed stoichiometry': -1.0,\n",
       " 'Negative electrode charge transfer coefficient': 0.5,\n",
       " 'Negative electrode conductivity [S.m-1]': 215.0,\n",
       " 'Negative electrode density [kg.m-3]': 1657.0,\n",
       " 'Negative electrode diffusivity [m2.s-1]': 3.3e-14,\n",
       " 'Negative electrode double-layer capacity [F.m-2]': 0.2,\n",
       " 'Negative electrode electrons in reaction': 1.0,\n",
       " 'Negative electrode exchange-current density [A.m-2]': <function graphite_LGM50_electrolyte_exchange_current_density_Chen2020 at 0x157512700>,\n",
       " 'Negative electrode porosity': 0.25,\n",
       " 'Negative electrode specific heat capacity [J.kg-1.K-1]': 700.0,\n",
       " 'Negative electrode thermal conductivity [W.m-1.K-1]': 1.7,\n",
       " 'Negative electrode thickness [m]': 8.52e-05,\n",
       " 'Negative particle radius [m]': 5.86e-06,\n",
       " 'Nominal cell capacity [A.h]': 5.0,\n",
       " 'Number of cells connected in series to make a battery': 1.0,\n",
       " 'Number of electrodes connected in parallel to make a cell': 1.0,\n",
       " 'Outer SEI open-circuit potential [V]': 0.8,\n",
       " 'Outer SEI partial molar volume [m3.mol-1]': 9.585e-05,\n",
       " 'Outer SEI solvent diffusivity [m2.s-1]': 2.5000000000000002e-22,\n",
       " 'Positive current collector conductivity [S.m-1]': 36914000.0,\n",
       " 'Positive current collector density [kg.m-3]': 2700.0,\n",
       " 'Positive current collector specific heat capacity [J.kg-1.K-1]': 897.0,\n",
       " 'Positive current collector thermal conductivity [W.m-1.K-1]': 237.0,\n",
       " 'Positive current collector thickness [m]': 1.6e-05,\n",
       " 'Positive electrode Bruggeman coefficient (electrode)': 1.5,\n",
       " 'Positive electrode Bruggeman coefficient (electrolyte)': 1.5,\n",
       " 'Positive electrode OCP [V]': ('nmc_LGM50_ocp_Chen2020',\n",
       "                                array([[0.24879728, 4.4       ],\n",
       "       [0.26614516, 4.2935653 ],\n",
       "       [0.26886763, 4.2768621 ],\n",
       "       [0.27159011, 4.2647018 ],\n",
       "       [0.27431258, 4.2540312 ],\n",
       "       [0.27703505, 4.2449446 ],\n",
       "       [0.27975753, 4.2364879 ],\n",
       "       [0.28248   , 4.2302647 ],\n",
       "       [0.28520247, 4.2225528 ],\n",
       "       [0.28792495, 4.2182574 ],\n",
       "       [0.29064743, 4.213294  ],\n",
       "       [0.29336992, 4.2090373 ],\n",
       "       [0.29609239, 4.2051239 ],\n",
       "       [0.29881487, 4.2012677 ],\n",
       "       [0.30153735, 4.1981564 ],\n",
       "       [0.30425983, 4.1955218 ],\n",
       "       [0.30698231, 4.1931167 ],\n",
       "       [0.30970478, 4.1889744 ],\n",
       "       [0.31242725, 4.1881533 ],\n",
       "       [0.31514973, 4.1865883 ],\n",
       "       [0.3178722 , 4.1850228 ],\n",
       "       [0.32059466, 4.1832285 ],\n",
       "       [0.32331714, 4.1808805 ],\n",
       "       [0.32603962, 4.1805749 ],\n",
       "       [0.32876209, 4.1789522 ],\n",
       "       [0.33148456, 4.1768146 ],\n",
       "       [0.33420703, 4.1768146 ],\n",
       "       [0.3369295 , 4.1752872 ],\n",
       "       [0.33965197, 4.173111  ],\n",
       "       [0.34237446, 4.1726718 ],\n",
       "       [0.34509694, 4.1710877 ],\n",
       "       [0.34781941, 4.1702285 ],\n",
       "       [0.3505419 , 4.168797  ],\n",
       "       [0.35326438, 4.1669831 ],\n",
       "       [0.35598685, 4.1655135 ],\n",
       "       [0.35870932, 4.1634517 ],\n",
       "       [0.3614318 , 4.1598248 ],\n",
       "       [0.36415428, 4.1571712 ],\n",
       "       [0.36687674, 4.154079  ],\n",
       "       [0.36959921, 4.1504135 ],\n",
       "       [0.37232169, 4.1466532 ],\n",
       "       [0.37504418, 4.1423388 ],\n",
       "       [0.37776665, 4.1382346 ],\n",
       "       [0.38048913, 4.1338248 ],\n",
       "       [0.38321161, 4.1305799 ],\n",
       "       [0.38593408, 4.1272392 ],\n",
       "       [0.38865655, 4.1228104 ],\n",
       "       [0.39137903, 4.1186109 ],\n",
       "       [0.39410151, 4.114182  ],\n",
       "       [0.39682398, 4.1096005 ],\n",
       "       [0.39954645, 4.1046948 ],\n",
       "       [0.40226892, 4.1004758 ],\n",
       "       [0.4049914 , 4.0956464 ],\n",
       "       [0.40771387, 4.0909696 ],\n",
       "       [0.41043634, 4.0864644 ],\n",
       "       [0.41315882, 4.0818448 ],\n",
       "       [0.41588129, 4.077683  ],\n",
       "       [0.41860377, 4.0733309 ],\n",
       "       [0.42132624, 4.0690737 ],\n",
       "       [0.42404872, 4.0647216 ],\n",
       "       [0.4267712 , 4.0608654 ],\n",
       "       [0.42949368, 4.0564747 ],\n",
       "       [0.43221616, 4.0527525 ],\n",
       "       [0.43493864, 4.0492401 ],\n",
       "       [0.43766111, 4.0450211 ],\n",
       "       [0.44038359, 4.041986  ],\n",
       "       [0.44310607, 4.0384736 ],\n",
       "       [0.44582856, 4.035171  ],\n",
       "       [0.44855103, 4.0320406 ],\n",
       "       [0.45127351, 4.0289288 ],\n",
       "       [0.453996  , 4.02597   ],\n",
       "       [0.45671848, 4.0227437 ],\n",
       "       [0.45944095, 4.0199757 ],\n",
       "       [0.46216343, 4.0175133 ],\n",
       "       [0.46488592, 4.0149746 ],\n",
       "       [0.46760838, 4.0122066 ],\n",
       "       [0.47033085, 4.009954  ],\n",
       "       [0.47305333, 4.0075679 ],\n",
       "       [0.47577581, 4.0050669 ],\n",
       "       [0.47849828, 4.0023184 ],\n",
       "       [0.48122074, 3.9995501 ],\n",
       "       [0.48394321, 3.9969349 ],\n",
       "       [0.48666569, 3.9926589 ],\n",
       "       [0.48938816, 3.9889555 ],\n",
       "       [0.49211064, 3.9834003 ],\n",
       "       [0.4948331 , 3.9783037 ],\n",
       "       [0.49755557, 3.9755929 ],\n",
       "       [0.50027804, 3.9707632 ],\n",
       "       [0.50300052, 3.9681098 ],\n",
       "       [0.50572298, 3.9635665 ],\n",
       "       [0.50844545, 3.9594433 ],\n",
       "       [0.51116792, 3.9556634 ],\n",
       "       [0.51389038, 3.9521511 ],\n",
       "       [0.51661284, 3.9479132 ],\n",
       "       [0.51933531, 3.9438281 ],\n",
       "       [0.52205777, 3.9400866 ],\n",
       "       [0.52478024, 3.9362304 ],\n",
       "       [0.52750271, 3.9314201 ],\n",
       "       [0.53022518, 3.9283848 ],\n",
       "       [0.53294765, 3.9242232 ],\n",
       "       [0.53567012, 3.9192028 ],\n",
       "       [0.53839258, 3.9166257 ],\n",
       "       [0.54111506, 3.9117961 ],\n",
       "       [0.54383753, 3.90815   ],\n",
       "       [0.54656   , 3.9038739 ],\n",
       "       [0.54928247, 3.8995597 ],\n",
       "       [0.55200494, 3.8959136 ],\n",
       "       [0.5547274 , 3.8909314 ],\n",
       "       [0.55744986, 3.8872662 ],\n",
       "       [0.56017233, 3.8831048 ],\n",
       "       [0.5628948 , 3.8793442 ],\n",
       "       [0.56561729, 3.8747628 ],\n",
       "       [0.56833976, 3.8702576 ],\n",
       "       [0.57106222, 3.8666878 ],\n",
       "       [0.57378469, 3.8623927 ],\n",
       "       [0.57650716, 3.8581741 ],\n",
       "       [0.57922963, 3.854146  ],\n",
       "       [0.5819521 , 3.8499846 ],\n",
       "       [0.58467456, 3.8450022 ],\n",
       "       [0.58739702, 3.8422534 ],\n",
       "       [0.59011948, 3.8380919 ],\n",
       "       [0.59284194, 3.8341596 ],\n",
       "       [0.5955644 , 3.8309333 ],\n",
       "       [0.59828687, 3.8272109 ],\n",
       "       [0.60100935, 3.823164  ],\n",
       "       [0.60373182, 3.8192315 ],\n",
       "       [0.60645429, 3.8159864 ],\n",
       "       [0.60917677, 3.8123021 ],\n",
       "       [0.61189925, 3.8090379 ],\n",
       "       [0.61462172, 3.8071671 ],\n",
       "       [0.61734419, 3.8040555 ],\n",
       "       [0.62006666, 3.8013639 ],\n",
       "       [0.62278914, 3.7970879 ],\n",
       "       [0.62551162, 3.7953317 ],\n",
       "       [0.62823408, 3.7920673 ],\n",
       "       [0.63095656, 3.788383  ],\n",
       "       [0.63367903, 3.7855389 ],\n",
       "       [0.6364015 , 3.7838206 ],\n",
       "       [0.63912397, 3.78111   ],\n",
       "       [0.64184645, 3.7794874 ],\n",
       "       [0.64456893, 3.7769294 ],\n",
       "       [0.6472914 , 3.773608  ],\n",
       "       [0.65001389, 3.7695992 ],\n",
       "       [0.65273637, 3.7690265 ],\n",
       "       [0.65545884, 3.7662776 ],\n",
       "       [0.65818131, 3.7642922 ],\n",
       "       [0.66090379, 3.7626889 ],\n",
       "       [0.66362625, 3.7603791 ],\n",
       "       [0.66634874, 3.7575538 ],\n",
       "       [0.66907121, 3.7552056 ],\n",
       "       [0.67179369, 3.7533159 ],\n",
       "       [0.67451616, 3.7507198 ],\n",
       "       [0.67723865, 3.7487535 ],\n",
       "       [0.67996113, 3.7471499 ],\n",
       "       [0.68268361, 3.7442865 ],\n",
       "       [0.68540608, 3.7423012 ],\n",
       "       [0.68812855, 3.7400677 ],\n",
       "       [0.69085103, 3.7385788 ],\n",
       "       [0.6935735 , 3.7345319 ],\n",
       "       [0.69629597, 3.7339211 ],\n",
       "       [0.69901843, 3.7301605 ],\n",
       "       [0.7017409 , 3.7301033 ],\n",
       "       [0.70446338, 3.7278316 ],\n",
       "       [0.70718585, 3.7251589 ],\n",
       "       [0.70990833, 3.723861  ],\n",
       "       [0.71263081, 3.7215703 ],\n",
       "       [0.71535328, 3.7191267 ],\n",
       "       [0.71807574, 3.7172751 ],\n",
       "       [0.72079822, 3.7157097 ],\n",
       "       [0.72352069, 3.7130945 ],\n",
       "       [0.72624317, 3.7099447 ],\n",
       "       [0.72896564, 3.7071004 ],\n",
       "       [0.7316881 , 3.7045615 ],\n",
       "       [0.73441057, 3.703588  ],\n",
       "       [0.73713303, 3.70208   ],\n",
       "       [0.73985551, 3.7002664 ],\n",
       "       [0.74257799, 3.6972122 ],\n",
       "       [0.74530047, 3.6952841 ],\n",
       "       [0.74802293, 3.6929362 ],\n",
       "       [0.7507454 , 3.6898055 ],\n",
       "       [0.75346787, 3.6890991 ],\n",
       "       [0.75619034, 3.686522  ],\n",
       "       [0.75891281, 3.6849759 ],\n",
       "       [0.76163529, 3.6821697 ],\n",
       "       [0.76435776, 3.6808143 ],\n",
       "       [0.76708024, 3.6786573 ],\n",
       "       [0.7698027 , 3.6761947 ],\n",
       "       [0.77252517, 3.674763  ],\n",
       "       [0.77524765, 3.6712887 ],\n",
       "       [0.77797012, 3.6697233 ],\n",
       "       [0.78069258, 3.6678908 ],\n",
       "       [0.78341506, 3.6652565 ],\n",
       "       [0.78613753, 3.6630611 ],\n",
       "       [0.78885999, 3.660274  ],\n",
       "       [0.79158246, 3.6583652 ],\n",
       "       [0.79430494, 3.6554828 ],\n",
       "       [0.79702741, 3.6522949 ],\n",
       "       [0.79974987, 3.6499848 ],\n",
       "       [0.80247234, 3.6470451 ],\n",
       "       [0.8051948 , 3.6405547 ],\n",
       "       [0.80791727, 3.6383405 ],\n",
       "       [0.81063974, 3.635076  ],\n",
       "       [0.81336221, 3.633549  ],\n",
       "       [0.81608468, 3.6322317 ],\n",
       "       [0.81880714, 3.6306856 ],\n",
       "       [0.82152961, 3.6283948 ],\n",
       "       [0.82425208, 3.6268487 ],\n",
       "       [0.82697453, 3.6243098 ],\n",
       "       [0.829697  , 3.6223626 ],\n",
       "       [0.83241946, 3.6193655 ],\n",
       "       [0.83514192, 3.6177621 ],\n",
       "       [0.83786439, 3.6158531 ],\n",
       "       [0.84058684, 3.6128371 ],\n",
       "       [0.84330931, 3.6118062 ],\n",
       "       [0.84603177, 3.6094582 ],\n",
       "       [0.84875424, 3.6072438 ],\n",
       "       [0.8514767 , 3.6049912 ],\n",
       "       [0.85419916, 3.6030822 ],\n",
       "       [0.85692162, 3.6012688 ],\n",
       "       [0.85964409, 3.5995889 ],\n",
       "       [0.86236656, 3.5976417 ],\n",
       "       [0.86508902, 3.5951984 ],\n",
       "       [0.86781149, 3.593843  ],\n",
       "       [0.87053395, 3.5916286 ],\n",
       "       [0.87325642, 3.5894907 ],\n",
       "       [0.87597888, 3.587429  ],\n",
       "       [0.87870135, 3.5852909 ],\n",
       "       [0.88142383, 3.5834775 ],\n",
       "       [0.8841463 , 3.5817785 ],\n",
       "       [0.88686877, 3.5801177 ],\n",
       "       [0.88959124, 3.5778842 ],\n",
       "       [0.89231371, 3.5763381 ],\n",
       "       [0.8950362 , 3.5737801 ],\n",
       "       [0.89775868, 3.5721002 ],\n",
       "       [0.90048116, 3.5702102 ],\n",
       "       [0.90320364, 3.5684922 ],\n",
       "       [0.90592613, 3.5672133 ],\n",
       "       [1.        , 3.52302167]])),\n",
       " 'Positive electrode OCP entropic change [V.K-1]': 0.0,\n",
       " 'Positive electrode active material volume fraction': 0.665,\n",
       " 'Positive electrode cation signed stoichiometry': -1.0,\n",
       " 'Positive electrode charge transfer coefficient': 0.5,\n",
       " 'Positive electrode conductivity [S.m-1]': 0.18,\n",
       " 'Positive electrode density [kg.m-3]': 3262.0,\n",
       " 'Positive electrode diffusivity [m2.s-1]': 4e-15,\n",
       " 'Positive electrode double-layer capacity [F.m-2]': 0.2,\n",
       " 'Positive electrode electrons in reaction': 1.0,\n",
       " 'Positive electrode exchange-current density [A.m-2]': <function nmc_LGM50_electrolyte_exchange_current_density_Chen2020 at 0x157512dc0>,\n",
       " 'Positive electrode porosity': 0.335,\n",
       " 'Positive electrode specific heat capacity [J.kg-1.K-1]': 700.0,\n",
       " 'Positive electrode thermal conductivity [W.m-1.K-1]': 2.1,\n",
       " 'Positive electrode thickness [m]': 7.56e-05,\n",
       " 'Positive particle radius [m]': 5.22e-06,\n",
       " 'Ratio of inner and outer SEI exchange current densities': 1.0,\n",
       " 'Reference OCP vs SHE in the negative electrode [V]': nan,\n",
       " 'Reference OCP vs SHE in the positive electrode [V]': nan,\n",
       " 'Reference temperature [K]': 298.15,\n",
       " 'SEI kinetic rate constant [m.s-1]': 1e-12,\n",
       " 'SEI open-circuit potential [V]': 0.4,\n",
       " 'SEI reaction exchange current density [A.m-2]': 1.5e-07,\n",
       " 'SEI resistivity [Ohm.m]': 5000000.0,\n",
       " 'Separator Bruggeman coefficient (electrolyte)': 1.5,\n",
       " 'Separator density [kg.m-3]': 397.0,\n",
       " 'Separator porosity': 0.47,\n",
       " 'Separator specific heat capacity [J.kg-1.K-1]': 700.0,\n",
       " 'Separator thermal conductivity [W.m-1.K-1]': 0.16,\n",
       " 'Separator thickness [m]': 1.2e-05,\n",
       " 'Total heat transfer coefficient [W.m-2.K-1]': 10.0,\n",
       " 'Typical current [A]': 5.0,\n",
       " 'Typical electrolyte concentration [mol.m-3]': 1000.0,\n",
       " 'Upper voltage cut-off [V]': 4.4}"
      ]
     },
     "execution_count": 23,
     "metadata": {},
     "output_type": "execute_result"
    }
   ],
   "source": [
    "parameter_values = pybamm.ParameterValues(chemistry=chemistry)\n",
    "parameter_values"
   ]
  },
  {
   "cell_type": "code",
   "execution_count": 24,
   "metadata": {},
   "outputs": [
    {
     "data": {
      "text/plain": [
       "False"
      ]
     },
     "execution_count": 24,
     "metadata": {},
     "output_type": "execute_result"
    }
   ],
   "source": [
    "parameter_values == default_parameter"
   ]
  },
  {
   "cell_type": "code",
   "execution_count": 25,
   "metadata": {},
   "outputs": [
    {
     "name": "stdout",
     "output_type": "stream",
     "text": [
      "EC initial concentration in electrolyte [mol.m-3]\t4541.0\n",
      "Initial concentration in electrolyte [mol.m-3]\t1000.0\n",
      "Initial concentration in negative electrode [mol.m-3]\t29866.0\n",
      "Initial concentration in positive electrode [mol.m-3]\t17038.0\n",
      "Initial inner SEI thickness [m]\t2.5e-09\n",
      "Initial outer SEI thickness [m]\t2.5e-09\n",
      "Initial temperature [K]\t298.15\n"
     ]
    }
   ],
   "source": [
    "parameter_values.search(\"init\")"
   ]
  },
  {
   "cell_type": "code",
   "execution_count": 26,
   "metadata": {},
   "outputs": [
    {
     "name": "stdout",
     "output_type": "stream",
     "text": [
      "EC initial concentration in electrolyte [mol.m-3]\t4541.0\n",
      "Initial concentration in electrolyte [mol.m-3]\t1000.0\n",
      "Initial concentration in negative electrode [mol.m-3]\t19986.609595075\n",
      "Initial concentration in positive electrode [mol.m-3]\t30730.755438556498\n",
      "Initial inner SEI thickness [m]\t2.5e-09\n",
      "Initial outer SEI thickness [m]\t2.5e-09\n",
      "Initial temperature [K]\t298.15\n"
     ]
    }
   ],
   "source": [
    "default_parameter.search(\"init\")"
   ]
  },
  {
   "cell_type": "code",
   "execution_count": 61,
   "metadata": {},
   "outputs": [],
   "source": [
    "experiment = pybamm.Experiment(\n",
    "[(\"Discharge at C/3 until 3.703 V\",\n",
    " \"Hold at 3.703 V until 5 mA\",\n",
    " \"Rest for 48 hours\")], period=\"1 hours\"\n",
    ")"
   ]
  },
  {
   "cell_type": "code",
   "execution_count": 62,
   "metadata": {},
   "outputs": [
    {
     "data": {
      "text/plain": [
       "<pybamm.plotting.quick_plot.QuickPlot at 0x15aeb7370>"
      ]
     },
     "execution_count": 62,
     "metadata": {},
     "output_type": "execute_result"
    }
   ],
   "source": [
    "sim = pybamm.Simulation(model, experiment=experiment, parameter_values=parameter_values)\n",
    "sim.solve()\n",
    "sim.plot()"
   ]
  },
  {
   "cell_type": "code",
   "execution_count": 63,
   "metadata": {},
   "outputs": [
    {
     "name": "stdout",
     "output_type": "stream",
     "text": [
      "Bulk solvent concentration [mol.m-3]\t2636.0\n",
      "EC initial concentration in electrolyte [mol.m-3]\t4541.0\n",
      "Initial concentration in electrolyte [mol.m-3]\t1000.0\n",
      "Initial concentration in negative electrode [mol.m-3]\t19986.609595075\n",
      "Initial concentration in positive electrode [mol.m-3]\t30730.755438556498\n",
      "Lithium interstitial reference concentration [mol.m-3]\t15.0\n",
      "Maximum concentration in negative electrode [mol.m-3]\t24983.2619938437\n",
      "Maximum concentration in positive electrode [mol.m-3]\t51217.9257309275\n",
      "Typical electrolyte concentration [mol.m-3]\t1000.0\n"
     ]
    }
   ],
   "source": [
    "default_parameter.search(\"concentration\")"
   ]
  },
  {
   "cell_type": "code",
   "execution_count": 65,
   "metadata": {
    "collapsed": true,
    "jupyter": {
     "outputs_hidden": true
    }
   },
   "outputs": [
    {
     "name": "stdout",
     "output_type": "stream",
     "text": [
      "Average negative particle concentration\n",
      "Average negative particle concentration [mol.m-3]\n",
      "Average positive particle concentration\n",
      "Average positive particle concentration [mol.m-3]\n",
      "Electrolyte concentration\n",
      "Electrolyte concentration [Molar]\n",
      "Electrolyte concentration [mol.m-3]\n",
      "Inner negative electrode SEI concentration [mol.m-3]\n",
      "Inner positive electrode SEI concentration [mol.m-3]\n",
      "Maximum negative particle concentration\n",
      "Maximum negative particle concentration [mol.m-3]\n",
      "Maximum negative particle surface concentration\n",
      "Maximum negative particle surface concentration [mol.m-3]\n",
      "Maximum positive particle concentration\n",
      "Maximum positive particle concentration [mol.m-3]\n",
      "Maximum positive particle surface concentration\n",
      "Maximum positive particle surface concentration [mol.m-3]\n",
      "Minimum negative particle concentration\n",
      "Minimum negative particle concentration [mol.m-3]\n",
      "Minimum negative particle surface concentration\n",
      "Minimum negative particle surface concentration [mol.m-3]\n",
      "Minimum positive particle concentration\n",
      "Minimum positive particle concentration [mol.m-3]\n",
      "Minimum positive particle surface concentration\n",
      "Minimum positive particle surface concentration [mol.m-3]\n",
      "Negative SEI concentration [mol.m-3]\n",
      "Negative electrode X-averaged lithium plating concentration\n",
      "Negative electrode lithium plating concentration\n",
      "Negative electrode lithium plating concentration [mol.m-3]\n",
      "Negative electrode volume-averaged concentration\n",
      "Negative electrode volume-averaged concentration [mol.m-3]\n",
      "Negative electrolyte concentration\n",
      "Negative electrolyte concentration [Molar]\n",
      "Negative electrolyte concentration [mol.m-3]\n",
      "Negative particle concentration\n",
      "Negative particle concentration [mol.m-3]\n",
      "Negative particle surface concentration\n",
      "Negative particle surface concentration [mol.m-3]\n",
      "Outer negative electrode SEI concentration [mol.m-3]\n",
      "Outer positive electrode SEI concentration [mol.m-3]\n",
      "Positive SEI concentration [mol.m-3]\n",
      "Positive electrode X-averaged lithium plating concentration\n",
      "Positive electrode lithium plating concentration\n",
      "Positive electrode lithium plating concentration [mol.m-3]\n",
      "Positive electrode volume-averaged concentration\n",
      "Positive electrode volume-averaged concentration [mol.m-3]\n",
      "Positive electrolyte concentration\n",
      "Positive electrolyte concentration [Molar]\n",
      "Positive electrolyte concentration [mol.m-3]\n",
      "Positive particle concentration\n",
      "Positive particle concentration [mol.m-3]\n",
      "Positive particle surface concentration\n",
      "Positive particle surface concentration [mol.m-3]\n",
      "R-averaged negative particle concentration\n",
      "R-averaged negative particle concentration [mol.m-3]\n",
      "R-averaged positive particle concentration\n",
      "R-averaged positive particle concentration [mol.m-3]\n",
      "Separator electrolyte concentration\n",
      "Separator electrolyte concentration [Molar]\n",
      "Separator electrolyte concentration [mol.m-3]\n",
      "Total concentration in electrolyte [mol]\n",
      "X-averaged battery concentration overpotential [V]\n",
      "X-averaged concentration overpotential\n",
      "X-averaged concentration overpotential [V]\n",
      "X-averaged electrolyte concentration\n",
      "X-averaged electrolyte concentration [Molar]\n",
      "X-averaged electrolyte concentration [mol.m-3]\n",
      "X-averaged inner negative electrode SEI concentration [mol.m-3]\n",
      "X-averaged inner positive electrode SEI concentration [mol.m-3]\n",
      "X-averaged negative electrode SEI concentration [mol.m-3]\n",
      "X-averaged negative electrode lithium plating concentration [mol.m-3]\n",
      "X-averaged negative electrolyte concentration\n",
      "X-averaged negative electrolyte concentration [mol.m-3]\n",
      "X-averaged negative particle concentration\n",
      "X-averaged negative particle concentration [mol.m-3]\n",
      "X-averaged negative particle surface concentration\n",
      "X-averaged negative particle surface concentration [mol.m-3]\n",
      "X-averaged outer negative electrode SEI concentration [mol.m-3]\n",
      "X-averaged outer positive electrode SEI concentration [mol.m-3]\n",
      "X-averaged positive electrode SEI concentration [mol.m-3]\n",
      "X-averaged positive electrode lithium plating concentration [mol.m-3]\n",
      "X-averaged positive electrolyte concentration\n",
      "X-averaged positive electrolyte concentration [mol.m-3]\n",
      "X-averaged positive particle concentration\n",
      "X-averaged positive particle concentration [mol.m-3]\n",
      "X-averaged positive particle surface concentration\n",
      "X-averaged positive particle surface concentration [mol.m-3]\n",
      "X-averaged separator electrolyte concentration\n",
      "X-averaged separator electrolyte concentration [mol.m-3]\n"
     ]
    }
   ],
   "source": [
    "model.variables.search(\"concentration\")"
   ]
  },
  {
   "cell_type": "code",
   "execution_count": 88,
   "metadata": {},
   "outputs": [],
   "source": [
    "solution = sim.solution"
   ]
  },
  {
   "cell_type": "code",
   "execution_count": 67,
   "metadata": {},
   "outputs": [],
   "source": [
    "c_s_n = solution[\"Average negative particle concentration [mol.m-3]\"]"
   ]
  },
  {
   "cell_type": "code",
   "execution_count": 68,
   "metadata": {},
   "outputs": [
    {
     "data": {
      "text/plain": [
       "(54,)"
      ]
     },
     "execution_count": 68,
     "metadata": {},
     "output_type": "execute_result"
    }
   ],
   "source": [
    "c_s_n.entries.shape"
   ]
  },
  {
   "cell_type": "code",
   "execution_count": 69,
   "metadata": {},
   "outputs": [
    {
     "data": {
      "text/plain": [
       "[<matplotlib.lines.Line2D at 0x16b761af0>]"
      ]
     },
     "execution_count": 69,
     "metadata": {},
     "output_type": "execute_result"
    }
   ],
   "source": [
    "plt.plot(c_s_n.entries)"
   ]
  },
  {
   "cell_type": "code",
   "execution_count": 70,
   "metadata": {},
   "outputs": [],
   "source": [
    "c_s_n_ave = solution[\"X-averaged negative particle concentration [mol.m-3]\"]"
   ]
  },
  {
   "cell_type": "code",
   "execution_count": 71,
   "metadata": {},
   "outputs": [
    {
     "data": {
      "text/plain": [
       "(30, 54)"
      ]
     },
     "execution_count": 71,
     "metadata": {},
     "output_type": "execute_result"
    }
   ],
   "source": [
    "c_s_n_ave.entries.shape"
   ]
  },
  {
   "cell_type": "code",
   "execution_count": 72,
   "metadata": {},
   "outputs": [
    {
     "data": {
      "text/plain": [
       "array([29866.        , 20660.2571377 , 17284.39802093, 14167.86401236,\n",
       "       13972.17170627, 13970.41120565, 13969.5455707 , 13969.54557067,\n",
       "       13969.54557067, 13969.54557067, 13969.54557067, 13969.54557067,\n",
       "       13969.54557067, 13969.54557067, 13969.54557067, 13969.54557067,\n",
       "       13969.54557067, 13969.54557067, 13969.54557067, 13969.54557067,\n",
       "       13969.54557067, 13969.54557067, 13969.54557067, 13969.54557067,\n",
       "       13969.54557067, 13969.54557067, 13969.54557067, 13969.54557067,\n",
       "       13969.54557067, 13969.54557067, 13969.54557067, 13969.54557067,\n",
       "       13969.54557067, 13969.54557067, 13969.54557067, 13969.54557067,\n",
       "       13969.54557067, 13969.54557067, 13969.54557067, 13969.54557067,\n",
       "       13969.54557067, 13969.54557067, 13969.54557067, 13969.54557067,\n",
       "       13969.54557067, 13969.54557067, 13969.54557067, 13969.54557067,\n",
       "       13969.54557067, 13969.54557067, 13969.54557067, 13969.54557067,\n",
       "       13969.54557067, 13969.54557067])"
      ]
     },
     "execution_count": 72,
     "metadata": {},
     "output_type": "execute_result"
    }
   ],
   "source": [
    "c_s_n_ave.entries[0]"
   ]
  },
  {
   "cell_type": "code",
   "execution_count": 73,
   "metadata": {},
   "outputs": [],
   "source": [
    "c_s_n_ave_v = solution[\"Negative electrode volume-averaged concentration [mol.m-3]\"]"
   ]
  },
  {
   "cell_type": "code",
   "execution_count": 75,
   "metadata": {},
   "outputs": [
    {
     "data": {
      "text/plain": [
       "<matplotlib.legend.Legend at 0x1685e0d30>"
      ]
     },
     "execution_count": 75,
     "metadata": {},
     "output_type": "execute_result"
    }
   ],
   "source": [
    "plt.plot(c_s_n_ave_v.entries, label=\"a\")\n",
    "plt.plot(c_s_n.entries)\n",
    "plt.legend()"
   ]
  },
  {
   "cell_type": "code",
   "execution_count": 83,
   "metadata": {},
   "outputs": [],
   "source": [
    "model1 = pybamm.lithium_ion.DFN()\n",
    "chemistry = pybamm.parameter_sets.Chen2020\n",
    "parameter_values = pybamm.ParameterValues(chemistry=chemistry)"
   ]
  },
  {
   "cell_type": "code",
   "execution_count": 84,
   "metadata": {},
   "outputs": [],
   "source": [
    "experiment = pybamm.Experiment(\n",
    "[(\"Rest for 48 hours\")], period=\"1 hours\"\n",
    ")"
   ]
  },
  {
   "cell_type": "code",
   "execution_count": 85,
   "metadata": {},
   "outputs": [
    {
     "data": {
      "text/plain": [
       "<pybamm.plotting.quick_plot.QuickPlot at 0x13475dfd0>"
      ]
     },
     "execution_count": 85,
     "metadata": {},
     "output_type": "execute_result"
    }
   ],
   "source": [
    "sim1 = pybamm.Simulation(model1,experiment=experiment, parameter_values=parameter_values)\n",
    "sim1.solve()\n",
    "sim1.plot()"
   ]
  },
  {
   "cell_type": "code",
   "execution_count": 87,
   "metadata": {},
   "outputs": [],
   "source": [
    "solution1 = sim1.solution"
   ]
  },
  {
   "cell_type": "code",
   "execution_count": 89,
   "metadata": {},
   "outputs": [],
   "source": [
    "c_s_n_1 = solution1[\"Average negative particle concentration [mol.m-3]\"]"
   ]
  },
  {
   "cell_type": "code",
   "execution_count": 90,
   "metadata": {},
   "outputs": [],
   "source": [
    "c_s_n_ave_v_1 = solution1[\"Negative electrode volume-averaged concentration [mol.m-3]\"]"
   ]
  },
  {
   "cell_type": "code",
   "execution_count": 143,
   "metadata": {},
   "outputs": [],
   "source": [
    "c_s_p_1 = solution1[\"Average positive particle concentration [mol.m-3]\"]"
   ]
  },
  {
   "cell_type": "code",
   "execution_count": 91,
   "metadata": {},
   "outputs": [
    {
     "data": {
      "text/plain": [
       "<matplotlib.legend.Legend at 0x15c4bcd60>"
      ]
     },
     "execution_count": 91,
     "metadata": {},
     "output_type": "execute_result"
    }
   ],
   "source": [
    "plt.plot(c_s_n_ave_v_1.entries, label=\"a\")\n",
    "plt.plot(c_s_n_1.entries)\n",
    "plt.legend()"
   ]
  },
  {
   "cell_type": "code",
   "execution_count": 150,
   "metadata": {},
   "outputs": [],
   "source": [
    "c_s_p = solution[\"Average positive particle concentration [mol.m-3]\"]"
   ]
  },
  {
   "cell_type": "code",
   "execution_count": 151,
   "metadata": {},
   "outputs": [
    {
     "data": {
      "text/plain": [
       "13969.545570668563"
      ]
     },
     "execution_count": 151,
     "metadata": {},
     "output_type": "execute_result"
    }
   ],
   "source": [
    "c_s_n.entries[-1]"
   ]
  },
  {
   "cell_type": "code",
   "execution_count": 152,
   "metadata": {},
   "outputs": [
    {
     "data": {
      "text/plain": [
       "37242.94565847709"
      ]
     },
     "execution_count": 152,
     "metadata": {},
     "output_type": "execute_result"
    }
   ],
   "source": [
    "c_s_p.entries[-1]"
   ]
  },
  {
   "cell_type": "code",
   "execution_count": 156,
   "metadata": {},
   "outputs": [],
   "source": [
    "model_SOC = pybamm.lithium_ion.DFN()\n",
    "chemistry = pybamm.parameter_sets.Chen2020\n",
    "parameter_values = pybamm.ParameterValues(chemistry=chemistry)"
   ]
  },
  {
   "cell_type": "code",
   "execution_count": 157,
   "metadata": {},
   "outputs": [],
   "source": [
    "parameter_values[\"Initial concentration in negative electrode [mol.m-3]\"] = c_s_n.entries[-1].round(0)\n",
    "parameter_values[\"Initial concentration in positive electrode [mol.m-3]\"] = c_s_p.entries[-1].round(0)"
   ]
  },
  {
   "cell_type": "code",
   "execution_count": 158,
   "metadata": {},
   "outputs": [],
   "source": [
    "experiment = pybamm.Experiment(\n",
    "[(\"Rest for 10 seconds\",\n",
    " \"Charge at 1C for 10 seconds\",\n",
    " \"Rest for 10 seconds\")], \n",
    "    period=\"0.1 seconds\"\n",
    ")"
   ]
  },
  {
   "cell_type": "code",
   "execution_count": 159,
   "metadata": {},
   "outputs": [
    {
     "data": {
      "text/plain": [
       "<pybamm.plotting.quick_plot.QuickPlot at 0x170a7d850>"
      ]
     },
     "execution_count": 159,
     "metadata": {},
     "output_type": "execute_result"
    }
   ],
   "source": [
    "sim_SOC = pybamm.Simulation(model_SOC, experiment=experiment, parameter_values=parameter_values)\n",
    "sim_SOC.solve()\n",
    "sim_SOC.plot()"
   ]
  },
  {
   "cell_type": "code",
   "execution_count": 142,
   "metadata": {},
   "outputs": [
    {
     "data": {
      "text/plain": [
       "13970.0"
      ]
     },
     "execution_count": 142,
     "metadata": {},
     "output_type": "execute_result"
    }
   ],
   "source": [
    "c_s_p.entries[-1].round(0)"
   ]
  },
  {
   "cell_type": "code",
   "execution_count": 153,
   "metadata": {},
   "outputs": [
    {
     "data": {
      "text/plain": [
       "<matplotlib.legend.Legend at 0x16f97f640>"
      ]
     },
     "execution_count": 153,
     "metadata": {},
     "output_type": "execute_result"
    }
   ],
   "source": [
    "plt.plot(c_s_n.entries, label=\"negative\", marker=\"o\")\n",
    "plt.plot(c_s_p.entries, labeL=\"positive\", marker=\"o\")\n",
    "plt.plot(c_s_n_1.entries)\n",
    "plt.plot(c_s_p_1.entries)\n",
    "\n",
    "plt.legend()"
   ]
  },
  {
   "cell_type": "markdown",
   "metadata": {},
   "source": [
    "# summary"
   ]
  },
  {
   "cell_type": "code",
   "execution_count": 5,
   "metadata": {},
   "outputs": [
    {
     "data": {
      "application/vnd.jupyter.widget-view+json": {
       "model_id": "70397002beab4dffbdc86bc6c295bcf6",
       "version_major": 2,
       "version_minor": 0
      },
      "text/plain": [
       "interactive(children=(FloatSlider(value=0.0, description='t', max=51.40879545104776, step=0.5140879545104776),…"
      ]
     },
     "metadata": {},
     "output_type": "display_data"
    }
   ],
   "source": [
    "#%%timeit\n",
    "\n",
    "model = pybamm.lithium_ion.DFN()\n",
    "chemistry = pybamm.parameter_sets.Chen2020\n",
    "parameter_values = pybamm.ParameterValues(chemistry=chemistry)\n",
    "\n",
    "experiment = pybamm.Experiment(\n",
    "[(\"Discharge at C/3 until 3.703 V\",\n",
    " \"Hold at 3.703 V until 5 mA\",\n",
    " \"Rest for 48 hours\")], period=\"1 hours\"\n",
    ")\n",
    "\n",
    "sim = pybamm.Simulation(model, experiment=experiment, parameter_values=parameter_values)\n",
    "sim.solve()\n",
    "sim.plot()\n",
    "\n",
    "solution = sim.solution\n",
    "c_s_n = solution[\"Average negative particle concentration [mol.m-3]\"]\n",
    "c_s_p = solution[\"Average positive particle concentration [mol.m-3]\"]\n",
    "# print(c_s_n.entries[-1])\n",
    "# print(c_s_p.entries[-1])"
   ]
  },
  {
   "cell_type": "code",
   "execution_count": 10,
   "metadata": {},
   "outputs": [
    {
     "data": {
      "application/vnd.jupyter.widget-view+json": {
       "model_id": "903bd099af8343529175fdbbe1bcb23e",
       "version_major": 2,
       "version_minor": 0
      },
      "text/plain": [
       "interactive(children=(FloatSlider(value=0.0, description='t', max=30.000000000000004, step=0.30000000000000004…"
      ]
     },
     "metadata": {},
     "output_type": "display_data"
    },
    {
     "data": {
      "text/plain": [
       "<pybamm.plotting.quick_plot.QuickPlot at 0x130efdac0>"
      ]
     },
     "execution_count": 10,
     "metadata": {},
     "output_type": "execute_result"
    }
   ],
   "source": [
    "model_SOC = pybamm.lithium_ion.DFN()\n",
    "chemistry = pybamm.parameter_sets.Chen2020\n",
    "parameter_values = pybamm.ParameterValues(chemistry=chemistry)\n",
    "\n",
    "parameter_values[\"Initial concentration in negative electrode [mol.m-3]\"] = c_s_n.entries[-1].round(0)\n",
    "parameter_values[\"Initial concentration in positive electrode [mol.m-3]\"] = c_s_p.entries[-1].round(0)\n",
    "parameter_values[\"Initial concentration in electrolyte [mol.m-3]\"] = 1100.0\n",
    "\n",
    "experiment = pybamm.Experiment(\n",
    "[(\"Rest for 10 seconds\",\n",
    " \"Discharge at 10C for 10 seconds\",\n",
    " \"Rest for 10 seconds\")], \n",
    "    period=\"0.1 seconds\"\n",
    ")\n",
    "\n",
    "sim_SOC = pybamm.Simulation(model_SOC, experiment=experiment, parameter_values=parameter_values)\n",
    "sim_SOC.solve()\n",
    "sim_SOC.plot()"
   ]
  },
  {
   "cell_type": "code",
   "execution_count": 174,
   "metadata": {},
   "outputs": [
    {
     "name": "stdout",
     "output_type": "stream",
     "text": [
      "Lower voltage cut-off [V]\t2.5\n",
      "Upper voltage cut-off [V]\t4.4\n"
     ]
    }
   ],
   "source": [
    "parameter_values.search(\"voltage\")"
   ]
  },
  {
   "cell_type": "code",
   "execution_count": 8,
   "metadata": {},
   "outputs": [
    {
     "name": "stdout",
     "output_type": "stream",
     "text": [
      "EC initial concentration in electrolyte [mol.m-3]\t4541.0\n",
      "Initial concentration in electrolyte [mol.m-3]\t1000.0\n",
      "Initial concentration in negative electrode [mol.m-3]\t13970.0\n",
      "Initial concentration in positive electrode [mol.m-3]\t37243.0\n",
      "Initial inner SEI thickness [m]\t2.5e-09\n",
      "Initial outer SEI thickness [m]\t2.5e-09\n",
      "Initial temperature [K]\t298.15\n"
     ]
    }
   ],
   "source": [
    "parameter_values.search(\"initial\")"
   ]
  },
  {
   "cell_type": "code",
   "execution_count": 16,
   "metadata": {},
   "outputs": [
    {
     "name": "stdout",
     "output_type": "stream",
     "text": [
      "Inner SEI open-circuit potential [V]\t0.1\n",
      "Outer SEI open-circuit potential [V]\t0.8\n",
      "SEI open-circuit potential [V]\t0.4\n"
     ]
    }
   ],
   "source": [
    "parameter_values.search(\"potential\")"
   ]
  },
  {
   "cell_type": "markdown",
   "metadata": {},
   "source": [
    "# another way"
   ]
  },
  {
   "cell_type": "code",
   "execution_count": 22,
   "metadata": {},
   "outputs": [
    {
     "data": {
      "application/vnd.jupyter.widget-view+json": {
       "model_id": "9eefc26e0bb349cc80504f131cd1e625",
       "version_major": 2,
       "version_minor": 0
      },
      "text/plain": [
       "interactive(children=(FloatSlider(value=0.0, description='t', max=30.000000000000004, step=0.30000000000000004…"
      ]
     },
     "metadata": {},
     "output_type": "display_data"
    },
    {
     "data": {
      "text/plain": [
       "<pybamm.plotting.quick_plot.QuickPlot at 0x131debc40>"
      ]
     },
     "execution_count": 22,
     "metadata": {},
     "output_type": "execute_result"
    }
   ],
   "source": [
    "model = pybamm.lithium_ion.DFN()\n",
    "chemistry = pybamm.parameter_sets.Chen2020\n",
    "parameter_values = pybamm.ParameterValues(chemistry=chemistry)\n",
    "\n",
    "experiment = pybamm.Experiment(\n",
    "[(\"Discharge at C/3 until 3.703 V\",\n",
    " \"Hold at 3.703 V until 5 mA\",\n",
    " \"Rest for 48 hours\")], period=\"1 hours\"\n",
    ")\n",
    "\n",
    "sim = pybamm.Simulation(model, experiment=experiment, parameter_values=parameter_values)\n",
    "sim.solve()\n",
    "#sim.plot()\n",
    "\n",
    "#solution = sim.solution\n",
    "solution = sim.solve()\n",
    "\n",
    "# MODEL RE-INITIALIZATION: #############################################################\n",
    "# Now initialize the model with the solution of the charge, and then discharge with\n",
    "# the US06 drive cycle\n",
    "# We could also do this inplace by setting inplace to True, which modifies the original\n",
    "# model in place\n",
    "new_model = model.set_initial_conditions_from(solution, inplace=False)\n",
    "########################################################################################\n",
    "\n",
    "new_experiment = pybamm.Experiment(\n",
    "[(\"Rest for 10 seconds\",\n",
    " \"Discharge at 9C for 10 seconds\",\n",
    " \"Rest for 10 seconds\")], \n",
    "    period=\"0.1 seconds\"\n",
    ")\n",
    "\n",
    "sim_SOC = pybamm.Simulation(new_model, experiment=new_experiment, parameter_values=parameter_values)\n",
    "sim_SOC.solve()\n",
    "sim_SOC.plot()\n"
   ]
  },
  {
   "cell_type": "markdown",
   "metadata": {},
   "source": [
    "析出, 劣化も引き継いでいる -> 差が出ている？"
   ]
  },
  {
   "cell_type": "code",
   "execution_count": null,
   "metadata": {},
   "outputs": [],
   "source": []
  }
 ],
 "metadata": {
  "kernelspec": {
   "display_name": "Python 3",
   "language": "python",
   "name": "python3"
  },
  "language_info": {
   "codemirror_mode": {
    "name": "ipython",
    "version": 3
   },
   "file_extension": ".py",
   "mimetype": "text/x-python",
   "name": "python",
   "nbconvert_exporter": "python",
   "pygments_lexer": "ipython3",
   "version": "3.9.4"
  }
 },
 "nbformat": 4,
 "nbformat_minor": 4
}
